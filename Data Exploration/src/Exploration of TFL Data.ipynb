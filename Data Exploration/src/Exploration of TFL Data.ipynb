{
 "cells": [
  {
   "cell_type": "code",
   "execution_count": null,
   "metadata": {},
   "outputs": [],
   "source": [
    "import pandas as pd\n",
    "import geopandas\n",
    "import folium \n",
    "import requests\n",
    "import glob\n",
    "import arrow\n",
    "from collections import Counter\n",
    "from folium import plugins\n",
    "import arrow"
   ]
  },
  {
   "cell_type": "code",
   "execution_count": null,
   "metadata": {},
   "outputs": [],
   "source": [
    "list_files = glob.glob(r\"..\\data\\\\raw_tfl_data\\*.csv\")\n",
    "list_files"
   ]
  },
  {
   "cell_type": "code",
   "execution_count": null,
   "metadata": {},
   "outputs": [],
   "source": [
    "interim_container = []\n",
    "\n",
    "for _file in list_files: \n",
    "    \n",
    "    _data = pd.read_csv(_file)\n",
    "    interim_container.append(_data)\n",
    "\n",
    "combined_data = interim_container[0].append(interim_container[1:])"
   ]
  },
  {
   "cell_type": "code",
   "execution_count": null,
   "metadata": {},
   "outputs": [],
   "source": [
    "combined_data = combined_data.rename(columns = {\"Start Date\":\"Start_Date\", \"End Date\":\"End_Date\"})"
   ]
  },
  {
   "cell_type": "code",
   "execution_count": null,
   "metadata": {},
   "outputs": [],
   "source": [
    "combined_data[\"Start_Date_Converted\"] = pd.to_datetime(combined_data[\"Start_Date\"], format = \"%d/%m/%Y %H:%M\")\n",
    "combined_data[\"End_Date_Converted\"] = pd.to_datetime(combined_data[\"End_Date\"], format = \"%d/%m/%Y %H:%M\")"
   ]
  },
  {
   "cell_type": "code",
   "execution_count": null,
   "metadata": {},
   "outputs": [],
   "source": [
    "combined_data = combined_data.sort_values(by=\"Start_Date_Converted\")"
   ]
  },
  {
   "cell_type": "code",
   "execution_count": null,
   "metadata": {},
   "outputs": [],
   "source": [
    "combined_data.shape"
   ]
  },
  {
   "cell_type": "code",
   "execution_count": null,
   "metadata": {},
   "outputs": [],
   "source": [
    "def data_request(station_name): \n",
    "    api_key = \"\"\n",
    "    r = requests.get(f\"https://api.opencagedata.com/geocode/v1/json?q={station_name}&key={api_key}\")\n",
    "    return r.json()\n",
    "\n",
    "\n"
   ]
  },
  {
   "cell_type": "code",
   "execution_count": null,
   "metadata": {},
   "outputs": [],
   "source": [
    "start_station = (combined_data[\"StartStation Name\"].to_list())\n",
    "end_station = (combined_data[\"EndStation Name\"].to_list())\n",
    "combined_list_of_stations = start_station + end_station\n",
    "all_stations = Counter(combined_list_of_stations)\n"
   ]
  },
  {
   "cell_type": "code",
   "execution_count": null,
   "metadata": {},
   "outputs": [],
   "source": [
    "lat_dict = {}\n",
    "lng_dict ={}\n",
    "\n",
    "for key in all_stations.keys(): \n",
    "\n",
    "    data = data_request(key)\n",
    "\n",
    "    try:\n",
    "        \n",
    "        if data[\"results\"][0][\"components\"][\"city\"] == \"London\":\n",
    "            \n",
    "            print (data[\"results\"][0])\n",
    "            lat = data[\"results\"][0][\"geometry\"][\"lat\"]\n",
    "            lng = data[\"results\"][0][\"geometry\"][\"lng\"]\n",
    "        \n",
    "        else: \n",
    "            \n",
    "            lat = None \n",
    "            lng = None \n",
    "        \n",
    "    except KeyError: \n",
    "        \n",
    "        lat = None \n",
    "        lng = None\n",
    "        \n",
    "    except IndexError: \n",
    "        \n",
    "        lat = None \n",
    "        lng = None        \n",
    "    \n",
    "    else: \n",
    "        \n",
    "        lat_dict[key] = lat\n",
    "        lng_dict[key] = lng\n",
    "        \n",
    "    print (len(lat_dict))"
   ]
  },
  {
   "cell_type": "code",
   "execution_count": null,
   "metadata": {},
   "outputs": [],
   "source": [
    "combined_data['start_lat'] = combined_data['StartStation Name'].map(lat_dict)\n",
    "combined_data['end_lat']= combined_data['EndStation Name'].map(lat_dict)\n",
    "combined_data['start_lng'] = combined_data['StartStation Name'].map(lng_dict)\n",
    "combined_data['end_lng']= combined_data['EndStation Name'].map(lng_dict)"
   ]
  },
  {
   "cell_type": "code",
   "execution_count": null,
   "metadata": {},
   "outputs": [],
   "source": [
    "combined_data"
   ]
  },
  {
   "cell_type": "code",
   "execution_count": null,
   "metadata": {},
   "outputs": [],
   "source": [
    "combined_data_filtered = combined_data[combined_data[\"Bike Id\"] == 7753]\n",
    "#combined_data_filtered = combined_data_filtered[combined_data_filtered[\"Start_Date\"].str.contains(\"/02/2020\")]\n",
    "combined_data_filtered = combined_data_filtered.dropna()\n",
    "combined_data_filtered = combined_data_filtered.reset_index()"
   ]
  },
  {
   "cell_type": "code",
   "execution_count": null,
   "metadata": {},
   "outputs": [],
   "source": [
    "columns = list(combined_data_filtered.columns)\n",
    "coordinates = []\n",
    "times = []\n",
    "lines = []\n",
    "\n",
    "for row in combined_data_filtered.itertuples(): \n",
    "    \n",
    "    start = [row[columns.index('start_lng')+1], row[columns.index('start_lat')+1]]\n",
    "    end = [row[columns.index('end_lng')+1], row[columns.index('end_lat')+1]]\n",
    "\n",
    "    time_start = arrow.get(row[columns.index('Start_Date_Converted')+1]).isoformat().replace('+00:00', '')\n",
    "    time_end = arrow.get(row[columns.index('End_Date_Converted')+1]).isoformat().replace('+00:00', '')\n",
    "    \n",
    "    lines.append({'coordinates': [start, end],'dates': [time_start,time_end]})"
   ]
  },
  {
   "cell_type": "code",
   "execution_count": null,
   "metadata": {},
   "outputs": [],
   "source": [
    "m = folium.Map(\n",
    "    location=[51.509865, -0.118092],\n",
    "    zoom_start=12,\n",
    "    tiles='openstreet map')\n",
    "\n",
    "\n",
    "for _, row in combined_data_filtered.iterrows():\n",
    "    \n",
    "    tooltip = _\n",
    "    \n",
    "    \n",
    "    try: \n",
    "        folium.CircleMarker([row['start_lat'], row['start_lng']],\n",
    "                            radius=15,\n",
    "                            fill_color=\"#3db7e4\", # divvy color\n",
    "                            tooltip=tooltip\n",
    "                           ).add_to(m)\n",
    "\n",
    "        folium.CircleMarker([row['end_lat'], row['end_lng']],\n",
    "                            radius=15,\n",
    "                            fill_color=\"red\", # divvy color\n",
    "                            tooltip=tooltip\n",
    "                           ).add_to(m)\n",
    "\n",
    "#         folium.PolyLine([[row['start_lat'], row['start_lng']], \n",
    "#                          [row['end_lat'], row['end_lng']]]).add_to(m)\n",
    "        \n",
    "    except ValueError: \n",
    "        pass\n",
    "m"
   ]
  },
  {
   "cell_type": "code",
   "execution_count": null,
   "metadata": {},
   "outputs": [],
   "source": [
    "combined_data_filtered.reset_index()"
   ]
  },
  {
   "cell_type": "code",
   "execution_count": null,
   "metadata": {},
   "outputs": [],
   "source": [
    "m = folium.Map(tiles='cartodbpositron', location=(51.51, -0.1), zoom_start=12)\n",
    "\n",
    "\n",
    "features = [{'type': 'Feature',\n",
    "             'geometry': {'type': 'LineString',\n",
    "                    'coordinates': line['coordinates'],},\n",
    "              'properties': {'times': line['dates'],\n",
    "                            'style': {'weight': line['weight'] if 'weight' in line else 5}}}\n",
    "            for line in lines]\n",
    "\n",
    "plugins.TimestampedGeoJson({\n",
    "    'type': 'FeatureCollection',\n",
    "    'features': features,\n",
    "}, period='P1D',  time_slider_drag_update=True, add_last_point=True).add_to(m)"
   ]
  },
  {
   "cell_type": "code",
   "execution_count": null,
   "metadata": {},
   "outputs": [],
   "source": [
    "m.save(\"TheJourneyOfBike7753.html\")"
   ]
  },
  {
   "cell_type": "code",
   "execution_count": null,
   "metadata": {},
   "outputs": [],
   "source": [
    "start_dates = combined_data_filtered.Start_Date.to_list()\n",
    "\n",
    "formatted = [arrow.get(start_date, 'DD/MM/YYYY HH:mm').format(\"DD/MM/YYYY\") for start_date in start_dates]"
   ]
  },
  {
   "cell_type": "code",
   "execution_count": null,
   "metadata": {},
   "outputs": [],
   "source": [
    "counts = Counter(formatted)"
   ]
  },
  {
   "cell_type": "code",
   "execution_count": null,
   "metadata": {},
   "outputs": [],
   "source": [
    "counter_dataframe = pd.DataFrame.from_dict(counts, orient='index').reset_index()\n",
    "counter_dataframe = counter_dataframe.rename(columns = {\"index\":\"Journey Start Dates\", 0:\"Total\"})"
   ]
  },
  {
   "cell_type": "code",
   "execution_count": null,
   "metadata": {},
   "outputs": [],
   "source": [
    "counter_dataframe.plot.line(x=\"Journey Start Dates\", y=\"Total\", figsize = [10,5])"
   ]
  },
  {
   "cell_type": "code",
   "execution_count": null,
   "metadata": {},
   "outputs": [],
   "source": []
  }
 ],
 "metadata": {
  "kernelspec": {
   "display_name": "Python 3",
   "language": "python",
   "name": "python3"
  },
  "language_info": {
   "codemirror_mode": {
    "name": "ipython",
    "version": 3
   },
   "file_extension": ".py",
   "mimetype": "text/x-python",
   "name": "python",
   "nbconvert_exporter": "python",
   "pygments_lexer": "ipython3",
   "version": "3.7.4"
  }
 },
 "nbformat": 4,
 "nbformat_minor": 2
}
